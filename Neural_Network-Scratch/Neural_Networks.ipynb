{
 "cells": [
  {
   "cell_type": "markdown",
   "metadata": {},
   "source": [
    "#Imports"
   ]
  },
  {
   "cell_type": "code",
   "execution_count": 1,
   "metadata": {},
   "outputs": [],
   "source": [
    "import numpy as np\n",
    "import pandas as pd\n",
    "import matplotlib.pyplot as plt"
   ]
  },
  {
   "cell_type": "markdown",
   "metadata": {},
   "source": [
    "#Data Import"
   ]
  },
  {
   "cell_type": "code",
   "execution_count": 75,
   "metadata": {},
   "outputs": [],
   "source": [
    "df = pd.read_csv('train.csv')"
   ]
  },
  {
   "cell_type": "code",
   "execution_count": 76,
   "metadata": {},
   "outputs": [
    {
     "data": {
      "text/html": [
       "<div>\n",
       "<style scoped>\n",
       "    .dataframe tbody tr th:only-of-type {\n",
       "        vertical-align: middle;\n",
       "    }\n",
       "\n",
       "    .dataframe tbody tr th {\n",
       "        vertical-align: top;\n",
       "    }\n",
       "\n",
       "    .dataframe thead th {\n",
       "        text-align: right;\n",
       "    }\n",
       "</style>\n",
       "<table border=\"1\" class=\"dataframe\">\n",
       "  <thead>\n",
       "    <tr style=\"text-align: right;\">\n",
       "      <th></th>\n",
       "      <th>label</th>\n",
       "      <th>pixel0</th>\n",
       "      <th>pixel1</th>\n",
       "      <th>pixel2</th>\n",
       "      <th>pixel3</th>\n",
       "      <th>pixel4</th>\n",
       "      <th>pixel5</th>\n",
       "      <th>pixel6</th>\n",
       "      <th>pixel7</th>\n",
       "      <th>pixel8</th>\n",
       "      <th>...</th>\n",
       "      <th>pixel774</th>\n",
       "      <th>pixel775</th>\n",
       "      <th>pixel776</th>\n",
       "      <th>pixel777</th>\n",
       "      <th>pixel778</th>\n",
       "      <th>pixel779</th>\n",
       "      <th>pixel780</th>\n",
       "      <th>pixel781</th>\n",
       "      <th>pixel782</th>\n",
       "      <th>pixel783</th>\n",
       "    </tr>\n",
       "  </thead>\n",
       "  <tbody>\n",
       "    <tr>\n",
       "      <th>0</th>\n",
       "      <td>1</td>\n",
       "      <td>0</td>\n",
       "      <td>0</td>\n",
       "      <td>0</td>\n",
       "      <td>0</td>\n",
       "      <td>0</td>\n",
       "      <td>0</td>\n",
       "      <td>0</td>\n",
       "      <td>0</td>\n",
       "      <td>0</td>\n",
       "      <td>...</td>\n",
       "      <td>0</td>\n",
       "      <td>0</td>\n",
       "      <td>0</td>\n",
       "      <td>0</td>\n",
       "      <td>0</td>\n",
       "      <td>0</td>\n",
       "      <td>0</td>\n",
       "      <td>0</td>\n",
       "      <td>0</td>\n",
       "      <td>0</td>\n",
       "    </tr>\n",
       "    <tr>\n",
       "      <th>1</th>\n",
       "      <td>0</td>\n",
       "      <td>0</td>\n",
       "      <td>0</td>\n",
       "      <td>0</td>\n",
       "      <td>0</td>\n",
       "      <td>0</td>\n",
       "      <td>0</td>\n",
       "      <td>0</td>\n",
       "      <td>0</td>\n",
       "      <td>0</td>\n",
       "      <td>...</td>\n",
       "      <td>0</td>\n",
       "      <td>0</td>\n",
       "      <td>0</td>\n",
       "      <td>0</td>\n",
       "      <td>0</td>\n",
       "      <td>0</td>\n",
       "      <td>0</td>\n",
       "      <td>0</td>\n",
       "      <td>0</td>\n",
       "      <td>0</td>\n",
       "    </tr>\n",
       "    <tr>\n",
       "      <th>2</th>\n",
       "      <td>1</td>\n",
       "      <td>0</td>\n",
       "      <td>0</td>\n",
       "      <td>0</td>\n",
       "      <td>0</td>\n",
       "      <td>0</td>\n",
       "      <td>0</td>\n",
       "      <td>0</td>\n",
       "      <td>0</td>\n",
       "      <td>0</td>\n",
       "      <td>...</td>\n",
       "      <td>0</td>\n",
       "      <td>0</td>\n",
       "      <td>0</td>\n",
       "      <td>0</td>\n",
       "      <td>0</td>\n",
       "      <td>0</td>\n",
       "      <td>0</td>\n",
       "      <td>0</td>\n",
       "      <td>0</td>\n",
       "      <td>0</td>\n",
       "    </tr>\n",
       "    <tr>\n",
       "      <th>3</th>\n",
       "      <td>4</td>\n",
       "      <td>0</td>\n",
       "      <td>0</td>\n",
       "      <td>0</td>\n",
       "      <td>0</td>\n",
       "      <td>0</td>\n",
       "      <td>0</td>\n",
       "      <td>0</td>\n",
       "      <td>0</td>\n",
       "      <td>0</td>\n",
       "      <td>...</td>\n",
       "      <td>0</td>\n",
       "      <td>0</td>\n",
       "      <td>0</td>\n",
       "      <td>0</td>\n",
       "      <td>0</td>\n",
       "      <td>0</td>\n",
       "      <td>0</td>\n",
       "      <td>0</td>\n",
       "      <td>0</td>\n",
       "      <td>0</td>\n",
       "    </tr>\n",
       "    <tr>\n",
       "      <th>4</th>\n",
       "      <td>0</td>\n",
       "      <td>0</td>\n",
       "      <td>0</td>\n",
       "      <td>0</td>\n",
       "      <td>0</td>\n",
       "      <td>0</td>\n",
       "      <td>0</td>\n",
       "      <td>0</td>\n",
       "      <td>0</td>\n",
       "      <td>0</td>\n",
       "      <td>...</td>\n",
       "      <td>0</td>\n",
       "      <td>0</td>\n",
       "      <td>0</td>\n",
       "      <td>0</td>\n",
       "      <td>0</td>\n",
       "      <td>0</td>\n",
       "      <td>0</td>\n",
       "      <td>0</td>\n",
       "      <td>0</td>\n",
       "      <td>0</td>\n",
       "    </tr>\n",
       "  </tbody>\n",
       "</table>\n",
       "<p>5 rows × 785 columns</p>\n",
       "</div>"
      ],
      "text/plain": [
       "   label  pixel0  pixel1  pixel2  pixel3  pixel4  pixel5  pixel6  pixel7  \\\n",
       "0      1       0       0       0       0       0       0       0       0   \n",
       "1      0       0       0       0       0       0       0       0       0   \n",
       "2      1       0       0       0       0       0       0       0       0   \n",
       "3      4       0       0       0       0       0       0       0       0   \n",
       "4      0       0       0       0       0       0       0       0       0   \n",
       "\n",
       "   pixel8  ...  pixel774  pixel775  pixel776  pixel777  pixel778  pixel779  \\\n",
       "0       0  ...         0         0         0         0         0         0   \n",
       "1       0  ...         0         0         0         0         0         0   \n",
       "2       0  ...         0         0         0         0         0         0   \n",
       "3       0  ...         0         0         0         0         0         0   \n",
       "4       0  ...         0         0         0         0         0         0   \n",
       "\n",
       "   pixel780  pixel781  pixel782  pixel783  \n",
       "0         0         0         0         0  \n",
       "1         0         0         0         0  \n",
       "2         0         0         0         0  \n",
       "3         0         0         0         0  \n",
       "4         0         0         0         0  \n",
       "\n",
       "[5 rows x 785 columns]"
      ]
     },
     "execution_count": 76,
     "metadata": {},
     "output_type": "execute_result"
    }
   ],
   "source": [
    "df.head()"
   ]
  },
  {
   "cell_type": "code",
   "execution_count": 77,
   "metadata": {},
   "outputs": [],
   "source": [
    "data = np.array(df)"
   ]
  },
  {
   "cell_type": "code",
   "execution_count": 78,
   "metadata": {},
   "outputs": [],
   "source": [
    "# Get the shape of the data and assign the values to variables m and n\n",
    "m, n = data.shape\n",
    "\n",
    "# Read the data from 'test.csv' using pandas and assign it to the variable data_dev\n",
    "data_dev = pd.read_csv('test.csv')\n",
    "\n",
    "# Convert data_dev to a numpy array\n",
    "data_dev = np.array(data_dev)\n",
    "\n",
    "# Transpose the data_dev array\n",
    "data_dev = data_dev.T\n",
    "\n",
    "# Assign the first row of data_dev to Y_dev\n",
    "Y_dev = data_dev[0]\n",
    "\n",
    "# Assign the entire data_dev array to X_dev\n",
    "X_dev = data_dev\n",
    "\n",
    "# Normalize the values in X_dev by dividing them by 255\n",
    "X_dev = X_dev / 255.\n",
    "\n",
    "# Transpose the data array\n",
    "data = data.T\n",
    "\n",
    "# Assign the first row of data to Y_train\n",
    "Y_train = data[0]\n",
    "\n",
    "# Assign columns 1 to n of data to X_train\n",
    "X_train = data[1:n]\n",
    "\n",
    "# Normalize the values in X_train by dividing them by 255\n",
    "X_train = X_train / 255.\n"
   ]
  },
  {
   "cell_type": "code",
   "execution_count": 79,
   "metadata": {},
   "outputs": [
    {
     "data": {
      "text/plain": [
       "(784, 42000)"
      ]
     },
     "execution_count": 79,
     "metadata": {},
     "output_type": "execute_result"
    }
   ],
   "source": [
    "X_train.shape"
   ]
  },
  {
   "cell_type": "code",
   "execution_count": 80,
   "metadata": {},
   "outputs": [
    {
     "name": "stdout",
     "output_type": "stream",
     "text": [
      "(42000,)\n",
      "[1 0 1 ... 7 6 9]\n"
     ]
    }
   ],
   "source": [
    "print(Y_train.shape)\n",
    "print(Y_train)"
   ]
  },
  {
   "cell_type": "code",
   "execution_count": 81,
   "metadata": {},
   "outputs": [
    {
     "name": "stdout",
     "output_type": "stream",
     "text": [
      "[0 0 0 ... 0 0 0]\n",
      "(28000,)\n"
     ]
    }
   ],
   "source": [
    "print(Y_dev)\n",
    "print(Y_dev.shape)"
   ]
  },
  {
   "cell_type": "code",
   "execution_count": 82,
   "metadata": {},
   "outputs": [
    {
     "data": {
      "text/plain": [
       "(784, 28000)"
      ]
     },
     "execution_count": 82,
     "metadata": {},
     "output_type": "execute_result"
    }
   ],
   "source": [
    "X_dev.shape"
   ]
  },
  {
   "cell_type": "code",
   "execution_count": 83,
   "metadata": {},
   "outputs": [
    {
     "name": "stdout",
     "output_type": "stream",
     "text": [
      "(784,)\n",
      "(784,)\n"
     ]
    }
   ],
   "source": [
    "print(X_train[:,0].shape)\n",
    "print(X_dev[:,0].shape)"
   ]
  },
  {
   "cell_type": "code",
   "execution_count": 45,
   "metadata": {},
   "outputs": [],
   "source": [
    "def init_params():\n",
    "    # Initialize w1 as a 10x784 matrix with random values ranging from -0.5 to 0.5\n",
    "    w1 = np.random.rand(10, 784) - 0.5\n",
    "    # Initialize b1 as a 10x1 matrix with random values ranging from -0.5 to 0.5\n",
    "    b1 = np.random.rand(10, 1) - 0.5\n",
    "    # Initialize w2 as a 10x10 matrix with random values ranging from -0.5 to 0.5\n",
    "    w2 = np.random.rand(10, 10) - 0.5\n",
    "    # Initialize b2 as a 10x1 matrix with random values ranging from -0.5 to 0.5\n",
    "    b2 = np.random.rand(10, 1) - 0.5\n",
    "\n",
    "    # Return the initialized parameters\n",
    "    return w1, b1, w2, b2\n",
    "\n",
    "\n",
    "def ReLU(z):\n",
    "    # Apply ReLU activation function to the input z\n",
    "    return np.maximum(z, 0)\n",
    "\n",
    "\n",
    "def softmax(z):\n",
    "    # Compute the softmax activation for the input z\n",
    "    return (np.exp(z) / sum(np.exp(z)))\n",
    "\n",
    "\n",
    "def forward_prop(w1, b1, w2, b2, X):\n",
    "    # Compute the weighted sum and activation of the first layer\n",
    "    z1 = w1.dot(X) + b1\n",
    "    a1 = ReLU(z1)\n",
    "    # Compute the weighted sum and activation of the second layer\n",
    "    z2 = w2.dot(a1) + b2\n",
    "    a2 = softmax(z2)\n",
    "\n",
    "    # Return the intermediate results and final activations\n",
    "    return z1, a1, z2, a2\n",
    "\n",
    "\n",
    "def ohe(y):\n",
    "    # Convert class labels y into one-hot encoded format\n",
    "    ohe_y = np.zeros((y.size, y.max() + 1))\n",
    "    ohe_y[np.arange(y.size), y] = 1\n",
    "    ohe_y = ohe_y.T\n",
    "\n",
    "    # Return the one-hot encoded labels\n",
    "    return ohe_y\n",
    "\n",
    "\n",
    "def d_a(z):\n",
    "    # Compute the derivative of the ReLU activation function\n",
    "    return z > 0\n",
    "\n",
    "\n",
    "def back_prop(z1, a1, z2, a2, w2, X, Y):\n",
    "    # Compute the one-hot encoded labels\n",
    "    ohe_y = ohe(Y)\n",
    "    # Compute the derivative of the softmax activation\n",
    "    dz2 = a2 - ohe_y\n",
    "    # Compute the gradients for the second layer weights and biases\n",
    "    dw2 = 1 / m * dz2.dot(a1.T)\n",
    "    db2 = 1 / m * np.sum(dz2)\n",
    "    # Compute the gradients for the first layer weights and biases\n",
    "    dz1 = w2.T.dot(dz2) * d_a(z1)\n",
    "    dw1 = 1 / m * dz1.dot(X.T)\n",
    "    db1 = 1 / m * np.sum(dz1)\n",
    "\n",
    "    # Return the gradients\n",
    "    return dw1, db1, dw2, db2\n",
    "\n",
    "\n",
    "def update_params(w1, b1, w2, b2, dw1, db1, dw2, db2, alpha):\n",
    "    # Update the parameters using gradient descent\n",
    "    w1 = w1 - alpha * dw1\n",
    "    b1 = b1 - alpha * db1\n",
    "    w2 = w2 - alpha * dw2\n",
    "    b2 = b2 - alpha * db2\n",
    "\n",
    "    # Return the updated parameters\n",
    "    return w1, b1, w2, b2\n"
   ]
  },
  {
   "cell_type": "code",
   "execution_count": 46,
   "metadata": {},
   "outputs": [],
   "source": [
    "def get_predictions(a2):\n",
    "    # Get the predicted labels by finding the index of the maximum value in each column of a2\n",
    "    return np.argmax(a2, 0)\n",
    "\n",
    "\n",
    "def get_accuracy(pred, Y):\n",
    "    # Compute and print the predicted labels and true labels for debugging purposes\n",
    "    print(pred, Y)\n",
    "    # Compute the accuracy by comparing the predicted labels (pred) with the true labels (Y)\n",
    "    return np.sum(pred == Y) / Y.size\n",
    "\n",
    "\n",
    "def gradient_descent(X, Y, iter, alpha):\n",
    "    # Initialize the parameters\n",
    "    w1, b1, w2, b2 = init_params()\n",
    "    \n",
    "    # Iterate for the specified number of iterations\n",
    "    for i in range(iter):\n",
    "        # Perform forward propagation\n",
    "        z1, a1, z2, a2 = forward_prop(w1, b1, w2, b2, X)\n",
    "        \n",
    "        # Perform backpropagation to compute the gradients\n",
    "        dw1, db1, dw2, db2 = back_prop(z1, a1, z2, a2, w2, X, Y)\n",
    "        \n",
    "        # Update the parameters using gradient descent\n",
    "        w1, b1, w2, b2 = update_params(w1, b1, w2, b2, dw1, db1, dw2, db2, alpha)\n",
    "\n",
    "        # Print the iteration number and compute and print the accuracy every 50 iterations\n",
    "        if i % 50 == 0:\n",
    "            print(\"Iteration: \", i)\n",
    "            print(\"Accuracy: \", get_accuracy(get_predictions(a2), Y))\n",
    "\n",
    "    # Return the updated parameters\n",
    "    return w1, b1, w2, b2\n"
   ]
  },
  {
   "cell_type": "code",
   "execution_count": 51,
   "metadata": {},
   "outputs": [
    {
     "name": "stdout",
     "output_type": "stream",
     "text": [
      "Iteration:  0\n",
      "[2 7 2 ... 8 2 8] [1 0 1 ... 7 6 9]\n",
      "Accuracy:  0.11957142857142856\n",
      "Iteration:  50\n",
      "[3 0 5 ... 7 2 7] [1 0 1 ... 7 6 9]\n",
      "Accuracy:  0.2909047619047619\n",
      "Iteration:  100\n",
      "[3 0 6 ... 7 1 7] [1 0 1 ... 7 6 9]\n",
      "Accuracy:  0.4714761904761905\n",
      "Iteration:  150\n",
      "[3 0 1 ... 7 6 4] [1 0 1 ... 7 6 9]\n",
      "Accuracy:  0.5838571428571429\n",
      "Iteration:  200\n",
      "[3 0 1 ... 7 6 4] [1 0 1 ... 7 6 9]\n",
      "Accuracy:  0.653547619047619\n",
      "Iteration:  250\n",
      "[2 0 1 ... 7 6 4] [1 0 1 ... 7 6 9]\n",
      "Accuracy:  0.7067142857142857\n",
      "Iteration:  300\n",
      "[2 0 1 ... 7 6 4] [1 0 1 ... 7 6 9]\n",
      "Accuracy:  0.7432380952380953\n",
      "Iteration:  350\n",
      "[3 0 1 ... 7 6 9] [1 0 1 ... 7 6 9]\n",
      "Accuracy:  0.7678095238095238\n",
      "Iteration:  400\n",
      "[3 0 1 ... 7 6 9] [1 0 1 ... 7 6 9]\n",
      "Accuracy:  0.7856666666666666\n",
      "Iteration:  450\n",
      "[3 0 1 ... 7 6 9] [1 0 1 ... 7 6 9]\n",
      "Accuracy:  0.7994761904761905\n",
      "Iteration:  500\n",
      "[3 0 1 ... 7 6 9] [1 0 1 ... 7 6 9]\n",
      "Accuracy:  0.8101904761904762\n",
      "Iteration:  550\n",
      "[1 0 1 ... 7 6 9] [1 0 1 ... 7 6 9]\n",
      "Accuracy:  0.8191666666666667\n",
      "Iteration:  600\n",
      "[1 0 1 ... 7 6 9] [1 0 1 ... 7 6 9]\n",
      "Accuracy:  0.8267142857142857\n",
      "Iteration:  650\n",
      "[1 0 1 ... 7 6 9] [1 0 1 ... 7 6 9]\n",
      "Accuracy:  0.8327380952380953\n",
      "Iteration:  700\n",
      "[1 0 1 ... 7 6 9] [1 0 1 ... 7 6 9]\n",
      "Accuracy:  0.838\n",
      "Iteration:  750\n",
      "[1 0 1 ... 7 6 9] [1 0 1 ... 7 6 9]\n",
      "Accuracy:  0.8419047619047619\n",
      "Iteration:  800\n",
      "[1 0 1 ... 7 6 9] [1 0 1 ... 7 6 9]\n",
      "Accuracy:  0.8464047619047619\n",
      "Iteration:  850\n",
      "[1 0 1 ... 7 6 9] [1 0 1 ... 7 6 9]\n",
      "Accuracy:  0.8502142857142857\n",
      "Iteration:  900\n",
      "[1 0 1 ... 7 6 9] [1 0 1 ... 7 6 9]\n",
      "Accuracy:  0.8532619047619048\n",
      "Iteration:  950\n",
      "[1 0 1 ... 7 6 9] [1 0 1 ... 7 6 9]\n",
      "Accuracy:  0.8564761904761905\n",
      "Iteration:  1000\n",
      "[1 0 1 ... 7 6 9] [1 0 1 ... 7 6 9]\n",
      "Accuracy:  0.8585714285714285\n",
      "Iteration:  1050\n",
      "[1 0 1 ... 7 6 9] [1 0 1 ... 7 6 9]\n",
      "Accuracy:  0.8610952380952381\n",
      "Iteration:  1100\n",
      "[1 0 1 ... 7 6 9] [1 0 1 ... 7 6 9]\n",
      "Accuracy:  0.8634047619047619\n",
      "Iteration:  1150\n",
      "[1 0 1 ... 7 6 9] [1 0 1 ... 7 6 9]\n",
      "Accuracy:  0.8653571428571428\n",
      "Iteration:  1200\n",
      "[1 0 1 ... 7 6 9] [1 0 1 ... 7 6 9]\n",
      "Accuracy:  0.8672857142857143\n",
      "Iteration:  1250\n",
      "[1 0 1 ... 7 6 9] [1 0 1 ... 7 6 9]\n",
      "Accuracy:  0.868904761904762\n",
      "Iteration:  1300\n",
      "[1 0 1 ... 7 6 9] [1 0 1 ... 7 6 9]\n",
      "Accuracy:  0.8708571428571429\n",
      "Iteration:  1350\n",
      "[1 0 1 ... 7 6 9] [1 0 1 ... 7 6 9]\n",
      "Accuracy:  0.8722857142857143\n",
      "Iteration:  1400\n",
      "[1 0 1 ... 7 6 9] [1 0 1 ... 7 6 9]\n",
      "Accuracy:  0.8736190476190476\n",
      "Iteration:  1450\n",
      "[1 0 1 ... 7 6 9] [1 0 1 ... 7 6 9]\n",
      "Accuracy:  0.8748809523809524\n",
      "Iteration:  1500\n",
      "[1 0 1 ... 7 6 9] [1 0 1 ... 7 6 9]\n",
      "Accuracy:  0.8759285714285714\n"
     ]
    }
   ],
   "source": [
    "w1, b1, w2, b2 = gradient_descent(X_train, Y_train, 1550, 0.05)"
   ]
  },
  {
   "cell_type": "code",
   "execution_count": 52,
   "metadata": {},
   "outputs": [],
   "source": [
    "def make_predictions(X, W1, b1, W2, b2):\n",
    "    # Perform forward propagation to get the final activations (a2)\n",
    "    _, _, _, a2 = forward_prop(W1, b1, W2, b2, X)\n",
    "    # Get the predictions by finding the index of the maximum value in each column of a2\n",
    "    predictions = get_predictions(a2)\n",
    "    return predictions\n",
    "\n",
    "\n",
    "def test_prediction(index, W1, b1, W2, b2):\n",
    "    # Get the current image from the training set\n",
    "    current_image = X_train[:, index, None]\n",
    "    # Make predictions for the current image\n",
    "    prediction = make_predictions(X_train[:, index, None], W1, b1, W2, b2)\n",
    "    # Get the true label for the current image\n",
    "    label = Y_train[index]\n",
    "    \n",
    "    # Print the prediction and the true label\n",
    "    print(\"Prediction: \", prediction)\n",
    "    print(\"Label: \", label)\n",
    "    \n",
    "    # Reshape the current image and display it\n",
    "    current_image = current_image.reshape((28, 28)) * 255\n",
    "    plt.gray()\n",
    "    plt.imshow(current_image, interpolation='nearest')\n",
    "    plt.show()\n"
   ]
  },
  {
   "cell_type": "code",
   "execution_count": 55,
   "metadata": {},
   "outputs": [
    {
     "name": "stdout",
     "output_type": "stream",
     "text": [
      "Prediction:  [1]\n",
      "Label:  1\n"
     ]
    },
    {
     "data": {
      "image/png": "[encoded data removed]",
      "text/plain": [
       "<Figure size 640x480 with 1 Axes>"
      ]
     },
     "metadata": {},
     "output_type": "display_data"
    },
    {
     "name": "stdout",
     "output_type": "stream",
     "text": [
      "Prediction:  [0]\n",
      "Label:  0\n"
     ]
    },
    {
     "data": {
      "image/png": "[encoded data removed]",
      "text/plain": [
       "<Figure size 640x480 with 1 Axes>"
      ]
     },
     "metadata": {},
     "output_type": "display_data"
    },
    {
     "name": "stdout",
     "output_type": "stream",
     "text": [
      "Prediction:  [1]\n",
      "Label:  1\n"
     ]
    },
    {
     "data": {
      "image/png": "[encoded data removed]",
      "text/plain": [
       "<Figure size 640x480 with 1 Axes>"
      ]
     },
     "metadata": {},
     "output_type": "display_data"
    },
    {
     "name": "stdout",
     "output_type": "stream",
     "text": [
      "Prediction:  [8]\n",
      "Label:  8\n"
     ]
    },
    {
     "data": {
      "image/png": "[encoded data removed]",
      "text/plain": [
       "<Figure size 640x480 with 1 Axes>"
      ]
     },
     "metadata": {},
     "output_type": "display_data"
    }
   ],
   "source": [
    "test_prediction(0, w1, b1, w2, b2)\n",
    "test_prediction(1, w1, b1, w2, b2)\n",
    "test_prediction(2, w1, b1, w2, b2)\n",
    "test_prediction(106, w1, b1, w2, b2)"
   ]
  },
  {
   "cell_type": "code",
   "execution_count": 84,
   "metadata": {},
   "outputs": [
    {
     "name": "stdout",
     "output_type": "stream",
     "text": [
      "[2 0 9 ... 3 9 2] [0 0 0 ... 0 0 0]\n"
     ]
    },
    {
     "data": {
      "text/plain": [
       "0.09928571428571428"
      ]
     },
     "execution_count": 84,
     "metadata": {},
     "output_type": "execute_result"
    }
   ],
   "source": [
    "dev_predictions = make_predictions(X_dev, w1, b1, w2, b2)\n",
    "get_accuracy(dev_predictions, Y_dev)"
   ]
  },
  {
   "cell_type": "code",
   "execution_count": null,
   "metadata": {},
   "outputs": [],
   "source": [
    "# Obtain predictions for X_dev using the given weights\n",
    "dev_predictions = make_predictions(X_dev, w1, b1, w2, b2)\n",
    "\n",
    "# Calculate the accuracy of the predictions by comparing them with the true labels Y_dev\n",
    "accuracy = get_accuracy(dev_predictions, Y_dev)\n",
    "\n",
    "# Print the accuracy\n",
    "print(\"Accuracy on dev set: \", accuracy)\n"
   ]
  }
 ],
 "metadata": {
  "kernelspec": {
   "display_name": "Python 3",
   "language": "python",
   "name": "python3"
  },
  "language_info": {
   "codemirror_mode": {
    "name": "ipython",
    "version": 3
   },
   "file_extension": ".py",
   "mimetype": "text/x-python",
   "name": "python",
   "nbconvert_exporter": "python",
   "pygments_lexer": "ipython3",
   "version": "3.7.9"
  },
  "orig_nbformat": 4
 },
 "nbformat": 4,
 "nbformat_minor": 2
}
